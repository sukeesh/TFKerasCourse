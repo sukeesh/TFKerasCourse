{
  "nbformat": 4,
  "nbformat_minor": 0,
  "metadata": {
    "colab": {
      "name": "TFLesson2.ipynb",
      "version": "0.3.2",
      "provenance": [],
      "include_colab_link": true
    },
    "kernelspec": {
      "name": "python3",
      "display_name": "Python 3"
    }
  },
  "cells": [
    {
      "cell_type": "markdown",
      "metadata": {
        "id": "view-in-github",
        "colab_type": "text"
      },
      "source": [
        "<a href=\"https://colab.research.google.com/github/sukeesh/TFKerasCourse/blob/master/TFLesson2.ipynb\" target=\"_parent\"><img src=\"https://colab.research.google.com/assets/colab-badge.svg\" alt=\"Open In Colab\"/></a>"
      ]
    },
    {
      "cell_type": "code",
      "metadata": {
        "id": "ZHA8OtiH0PrL",
        "colab_type": "code",
        "colab": {}
      },
      "source": [
        "import tensorflow as tf\n",
        "\n",
        "# Tell tensorflow to log only the errors\n",
        "tf.logging.set_verbosity(tf.logging.ERROR)\n",
        "  \n",
        "import numpy as np"
      ],
      "execution_count": 0,
      "outputs": []
    },
    {
      "cell_type": "markdown",
      "metadata": {
        "id": "AM5ymW2V1X0c",
        "colab_type": "text"
      },
      "source": [
        "Set up training data"
      ]
    },
    {
      "cell_type": "code",
      "metadata": {
        "id": "yO2ur5tY1cos",
        "colab_type": "code",
        "colab": {
          "base_uri": "https://localhost:8080/",
          "height": 138
        },
        "outputId": "5848512b-6bcb-4134-a3f7-43a1b567eead"
      },
      "source": [
        "celsius_q = np.array([-40, 10, 0, 8, 15, 22, 38], dtype=float)\n",
        "fahrenheit_a = np.array([-40, 14, 32, 46, 59, 72, 100], dtype=float)\n",
        "\n",
        "for i, c in enumerate(celsius_q):\n",
        "  print(\"{} degree Celsius = {} degrees Fahrenheit\".format(c, fahrenheit_a[i]))"
      ],
      "execution_count": 28,
      "outputs": [
        {
          "output_type": "stream",
          "text": [
            "-40.0 degree Celsius = -40.0 degrees Fahrenheit\n",
            "10.0 degree Celsius = 14.0 degrees Fahrenheit\n",
            "0.0 degree Celsius = 32.0 degrees Fahrenheit\n",
            "8.0 degree Celsius = 46.0 degrees Fahrenheit\n",
            "15.0 degree Celsius = 59.0 degrees Fahrenheit\n",
            "22.0 degree Celsius = 72.0 degrees Fahrenheit\n",
            "38.0 degree Celsius = 100.0 degrees Fahrenheit\n"
          ],
          "name": "stdout"
        }
      ]
    },
    {
      "cell_type": "markdown",
      "metadata": {
        "id": "XQgl7cCE2pIP",
        "colab_type": "text"
      },
      "source": [
        "Feature -> inputs (celsius) \n",
        "\n",
        "Label -> output (fahrenheit)"
      ]
    },
    {
      "cell_type": "code",
      "metadata": {
        "id": "Na_8tol-2zB6",
        "colab_type": "code",
        "colab": {}
      },
      "source": [
        "l0 = tf.keras.layers.Dense(units=1, input_shape=[1])"
      ],
      "execution_count": 0,
      "outputs": []
    },
    {
      "cell_type": "code",
      "metadata": {
        "id": "sPukIuIZ3kFh",
        "colab_type": "code",
        "colab": {}
      },
      "source": [
        "model = tf.keras.Sequential([l0])"
      ],
      "execution_count": 0,
      "outputs": []
    },
    {
      "cell_type": "code",
      "metadata": {
        "id": "s9wcu7yg31nJ",
        "colab_type": "code",
        "colab": {}
      },
      "source": [
        "model.compile(loss='mean_squared_error', \n",
        "             optimizer=tf.keras.optimizers.Adam(0.01))"
      ],
      "execution_count": 0,
      "outputs": []
    },
    {
      "cell_type": "code",
      "metadata": {
        "id": "TC-y9lIg4EqC",
        "colab_type": "code",
        "colab": {
          "base_uri": "https://localhost:8080/",
          "height": 35
        },
        "outputId": "f16d93fe-4dfe-424b-9b41-cfd87c5e3c9c"
      },
      "source": [
        "history = model.fit(celsius_q, fahrenheit_a, epochs=10000, verbose=False)\n",
        "print(\"Finished training the model\")"
      ],
      "execution_count": 36,
      "outputs": [
        {
          "output_type": "stream",
          "text": [
            "Finished training the model\n"
          ],
          "name": "stdout"
        }
      ]
    },
    {
      "cell_type": "code",
      "metadata": {
        "id": "bGd19YDv4w2Y",
        "colab_type": "code",
        "colab": {
          "base_uri": "https://localhost:8080/",
          "height": 307
        },
        "outputId": "f7a0e037-8e2b-463c-dbb3-2c366870107c"
      },
      "source": [
        "import matplotlib.pyplot as plt\n",
        "plt.xlabel('Epoch number')\n",
        "plt.ylabel('Loss magnitude')\n",
        "plt.plot(history.history['loss'])"
      ],
      "execution_count": 37,
      "outputs": [
        {
          "output_type": "execute_result",
          "data": {
            "text/plain": [
              "[<matplotlib.lines.Line2D at 0x7f0beb702ba8>]"
            ]
          },
          "metadata": {
            "tags": []
          },
          "execution_count": 37
        },
        {
          "output_type": "display_data",
          "data": {
            "image/png": "[encoded data removed]",
            "text/plain": [
              "<Figure size 432x288 with 1 Axes>"
            ]
          },
          "metadata": {
            "tags": []
          }
        }
      ]
    },
    {
      "cell_type": "code",
      "metadata": {
        "id": "kJn7HH5r5BiA",
        "colab_type": "code",
        "colab": {
          "base_uri": "https://localhost:8080/",
          "height": 35
        },
        "outputId": "5b65a8b6-f768-4aa4-c3ed-c0b9452f5272"
      },
      "source": [
        "print(model.predict([100.0]))"
      ],
      "execution_count": 38,
      "outputs": [
        {
          "output_type": "stream",
          "text": [
            "[[204.3284]]\n"
          ],
          "name": "stdout"
        }
      ]
    },
    {
      "cell_type": "code",
      "metadata": {
        "id": "SRbfvlfe5MBB",
        "colab_type": "code",
        "colab": {
          "base_uri": "https://localhost:8080/",
          "height": 35
        },
        "outputId": "46135a8e-c684-4faf-c96f-cdd0052eb22d"
      },
      "source": [
        "print(\"These are layer variables: {}\".format(l0.get_weights()))"
      ],
      "execution_count": 39,
      "outputs": [
        {
          "output_type": "stream",
          "text": [
            "These are layer variables: [array([[1.7732595]], dtype=float32), array([27.002436], dtype=float32)]\n"
          ],
          "name": "stdout"
        }
      ]
    },
    {
      "cell_type": "markdown",
      "metadata": {
        "id": "2STZKvEC8DcK",
        "colab_type": "text"
      },
      "source": [
        "## Test\n",
        "-------------------------\n",
        "Play with more layers in between"
      ]
    },
    {
      "cell_type": "code",
      "metadata": {
        "id": "ItrjgNMd8Mwt",
        "colab_type": "code",
        "colab": {
          "base_uri": "https://localhost:8080/",
          "height": 276
        },
        "outputId": "b9d7a957-109a-446a-85c5-352ac68e2631"
      },
      "source": [
        "l0 = tf.keras.layers.Dense(units=4, input_shape=[1])\n",
        "l1 = tf.keras.layers.Dense(units=5)\n",
        "l2 = tf.keras.layers.Dense(units=1)\n",
        "\n",
        "model = tf.keras.Sequential([l0, l1, l2])\n",
        "model.compile(loss='mean_squared_error', optimizer=tf.keras.optimizers.Adam(0.1))\n",
        "\n",
        "model.fit(celsius_q, fahrenheit_a, epochs=500, verbose=False)\n",
        "print(\"finised training model\")\n",
        "\n",
        "print(model.predict([100.0]))\n",
        "\n",
        "print(\"l0 variables: {}\".format(l0.get_weights()))\n",
        "print(\"l1 variables: {}\".format(l1.get_weights()))\n",
        "print(\"l2 variables: {}\".format(l2.get_weights()))"
      ],
      "execution_count": 41,
      "outputs": [
        {
          "output_type": "stream",
          "text": [
            "finised training model\n",
            "[[204.32874]]\n",
            "l0 variables: [array([[-0.01141768,  0.6713078 ,  0.3493515 , -0.02933456]],\n",
            "      dtype=float32), array([-2.5385568,  3.1672456,  2.7687225, -2.6794608], dtype=float32)]\n",
            "l1 variables: [array([[-0.241672  , -1.1230854 , -0.15715683,  0.0055506 ,  0.514849  ],\n",
            "       [-0.17899281,  0.93726104, -0.64874893, -0.11545977, -1.018031  ],\n",
            "       [ 0.3729145 , -0.18176453, -0.5832485 ,  0.9372102 , -0.5642297 ],\n",
            "       [ 0.11331113, -0.79974866, -0.1417157 , -0.57079643,  0.4854744 ]],\n",
            "      dtype=float32), array([-0.62507623,  2.9888284 , -2.0764515 ,  2.0686798 , -3.0049374 ],\n",
            "      dtype=float32)]\n",
            "l2 variables: [array([[-0.16960265],\n",
            "       [ 0.9873676 ],\n",
            "       [-0.36759207],\n",
            "       [ 0.40158993],\n",
            "       [-0.9333879 ]], dtype=float32), array([2.844862], dtype=float32)]\n"
          ],
          "name": "stdout"
        }
      ]
    }
  ]
}